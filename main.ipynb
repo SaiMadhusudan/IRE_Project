{
 "cells": [
  {
   "cell_type": "code",
   "execution_count": 6,
   "metadata": {},
   "outputs": [
    {
     "name": "stdout",
     "output_type": "stream",
     "text": [
      "./books_movies_and_music/Pianos-Keyboards-Organs/Electronic_Keyboards/365064614301\n"
     ]
    }
   ],
   "source": [
    "import re\n",
    "\n",
    "# Specify the path to your file\n",
    "file_path = './file_paths.txt'\n",
    "\n",
    "# Initialize a list to store the third-level paths\n",
    "third_level_paths = []\n",
    "\n",
    "# Define a regex pattern to match the desired third-level paths\n",
    "pattern = re.compile(r'^\\./[^/]+/[^/]+/[^/]+/\\d+$')\n",
    "\n",
    "# Read the file and filter the paths\n",
    "with open(file_path, 'r') as file:\n",
    "    for line in file:\n",
    "        line = line.strip()  # Remove any leading/trailing whitespace\n",
    "        if pattern.match(line):\n",
    "            third_level_paths.append(line)\n",
    "\n",
    "# Print the filtered paths\n",
    "for path in third_level_paths:\n",
    "    print(path)\n",
    "    break"
   ]
  },
  {
   "cell_type": "code",
   "execution_count": 7,
   "metadata": {},
   "outputs": [],
   "source": [
    "import os\n",
    "import json\n",
    "import shutil\n",
    "missing_json_dirs = []\n",
    "missing_imgs_dirs = []\n",
    "missing_imgs = []\n",
    "def check_dir(dir_path):\n",
    "    product_id = os.path.basename(dir_path)\n",
    "\n",
    "    # Look for JSON files matching the product ID\n",
    "    json_filename = f\"{product_id}.json\"\n",
    "    json_path = os.path.join(dir_path, json_filename)\n",
    "    \n",
    "    if not os.path.exists(json_path):\n",
    "        missing_json_dirs.append(dir_path) \n",
    "    return \n",
    "\n",
    "    # else:\n",
    "    #     try:\n",
    "    #         with open(json_path, 'r', encoding='utf-8') as f:\n",
    "    #             data = json.load(f)\n",
    "    #             main_image = data.get('main_image')\n",
    "    #             if main_image:\n",
    "    #                 image_filename = main_image\n",
    "    #                 imgs_dir = os.path.join(dir_path, 'imgs')\n",
    "    #                 # Check if the 'imgs' directory exists\n",
    "    #                 if os.path.exists(imgs_dir):\n",
    "    #                     files = os.listdir(imgs_dir)\n",
    "    #                     if image_filename+'.jpg' not in files:\n",
    "    #                         missing_imgs.append(dir_path)\n",
    "    #                     for file in files:\n",
    "    #                         if file == image_filename+'.jpg':\n",
    "    #                             pass\n",
    "    #                         elif file.endswith('.jpg'):\n",
    "    #                             # remove the file\n",
    "    #                             print(f\"Removing file: {file}\")\n",
    "    #                             os.remove(os.path.join(imgs_dir, file))\n",
    "    #                 else:\n",
    "    #                     missing_imgs_dirs.append(dir_path)\n",
    "\n",
    "        # except json.JSONDecodeError as e:\n",
    "        #     print(f\"Error decoding JSON file {json_path}: {e}\")\n",
    "        # except Exception as e:\n",
    "        #     print(f\"Error processing file {json_path}: {e}\")\n",
    "\n",
    "\n",
    "\n",
    "for path in third_level_paths : \n",
    "    check_dir(path)\n",
    "    \n",
    "# Force remove the directories with missing JSON files\n",
    "if missing_json_dirs:\n",
    "    print(\"Force removing directories with missing JSON files:\")\n",
    "    for dir in missing_json_dirs:\n",
    "        print(f\"Force removing: {dir}\")\n",
    "# if missing_imgs_dirs:\n",
    "#     print(\"Force removing directories with missing 'imgs' directories:\")\n",
    "#     for dir in missing_imgs_dirs:\n",
    "#         print(f\"Force removing: {dir}\")\n",
    "\n",
    "# if missing_imgs:\n",
    "#     print(\"Force removing directories with missing images:\")\n",
    "#     for dir in missing_imgs:\n",
    "#         print(f\"Force removing: {dir}\")"
   ]
  },
  {
   "cell_type": "code",
   "execution_count": null,
   "metadata": {},
   "outputs": [],
   "source": []
  }
 ],
 "metadata": {
  "kernelspec": {
   "display_name": "myenv",
   "language": "python",
   "name": "python3"
  },
  "language_info": {
   "codemirror_mode": {
    "name": "ipython",
    "version": 3
   },
   "file_extension": ".py",
   "mimetype": "text/x-python",
   "name": "python",
   "nbconvert_exporter": "python",
   "pygments_lexer": "ipython3",
   "version": "3.9.18"
  }
 },
 "nbformat": 4,
 "nbformat_minor": 2
}
